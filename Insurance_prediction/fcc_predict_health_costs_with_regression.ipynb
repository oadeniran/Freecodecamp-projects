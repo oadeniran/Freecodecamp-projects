{
 "cells": [
  {
   "cell_type": "markdown",
   "metadata": {
    "id": "M9TX15KOkPBV"
   },
   "source": [
    "*Note: You are currently reading this using Google Colaboratory which is a cloud-hosted version of Jupyter Notebook. This is a document containing both text cells for documentation and runnable code cells. If you are unfamiliar with Jupyter Notebook, watch this 3-minute introduction before starting this challenge: https://www.youtube.com/watch?v=inN8seMm7UI*\n",
    "\n",
    "---\n",
    "\n",
    "In this challenge, you will predict healthcare costs using a regression algorithm.\n",
    "\n",
    "You are given a dataset that contains information about different people including their healthcare costs. Use the data to predict healthcare costs based on new data.\n",
    "\n",
    "The first two cells of this notebook import libraries and the data.\n",
    "\n",
    "Make sure to convert categorical data to numbers. Use 80% of the data as the `train_dataset` and 20% of the data as the `test_dataset`.\n",
    "\n",
    "`pop` off the \"expenses\" column from these datasets to create new datasets called `train_labels` and `test_labels`. Use these labels when training your model.\n",
    "\n",
    "Create a model and train it with the `train_dataset`. Run the final cell in this notebook to check your model. The final cell will use the unseen `test_dataset` to check how well the model generalizes.\n",
    "\n",
    "To pass the challenge, `model.evaluate` must return a Mean Absolute Error of under 3500. This means it predicts health care costs correctly within $3500.\n",
    "\n",
    "The final cell will also predict expenses using the `test_dataset` and graph the results."
   ]
  },
  {
   "cell_type": "code",
   "execution_count": 18,
   "metadata": {
    "id": "1rRo8oNqZ-Rj"
   },
   "outputs": [
    {
     "ename": "ModuleNotFoundError",
     "evalue": "No module named 'tensorflow_docs'",
     "output_type": "error",
     "traceback": [
      "\u001b[1;31m---------------------------------------------------------------------------\u001b[0m",
      "\u001b[1;31mModuleNotFoundError\u001b[0m                       Traceback (most recent call last)",
      "\u001b[1;32m<ipython-input-18-271ccf53e2fe>\u001b[0m in \u001b[0;36m<module>\u001b[1;34m\u001b[0m\n\u001b[0;32m     15\u001b[0m \u001b[1;32mfrom\u001b[0m \u001b[0mtensorflow\u001b[0m\u001b[1;33m.\u001b[0m\u001b[0mkeras\u001b[0m \u001b[1;32mimport\u001b[0m \u001b[0mlayers\u001b[0m\u001b[1;33m\u001b[0m\u001b[1;33m\u001b[0m\u001b[0m\n\u001b[0;32m     16\u001b[0m \u001b[1;33m\u001b[0m\u001b[0m\n\u001b[1;32m---> 17\u001b[1;33m \u001b[1;32mimport\u001b[0m \u001b[0mtensorflow_docs\u001b[0m \u001b[1;32mas\u001b[0m \u001b[0mtfdocs\u001b[0m\u001b[1;33m\u001b[0m\u001b[1;33m\u001b[0m\u001b[0m\n\u001b[0m\u001b[0;32m     18\u001b[0m \u001b[1;32mimport\u001b[0m \u001b[0mtensorflow_docs\u001b[0m\u001b[1;33m.\u001b[0m\u001b[0mplots\u001b[0m\u001b[1;33m\u001b[0m\u001b[1;33m\u001b[0m\u001b[0m\n\u001b[0;32m     19\u001b[0m \u001b[1;32mimport\u001b[0m \u001b[0mtensorflow_docs\u001b[0m\u001b[1;33m.\u001b[0m\u001b[0mmodeling\u001b[0m\u001b[1;33m\u001b[0m\u001b[1;33m\u001b[0m\u001b[0m\n",
      "\u001b[1;31mModuleNotFoundError\u001b[0m: No module named 'tensorflow_docs'"
     ]
    }
   ],
   "source": [
    "# Import libraries. You may or may not use all of these.\n",
    "#!pip install -q git+https://github.com/tensorflow/docs\n",
    "import matplotlib.pyplot as plt\n",
    "import numpy as np\n",
    "import pandas as pd\n",
    "\n",
    "#try:\n",
    "  # %tensorflow_version only exists in Colab.\n",
    "  #%tensorflow_version 2.x\n",
    "#except Exception:\n",
    "  #pass\n",
    "import tensorflow as tf\n",
    "\n",
    "from tensorflow import keras\n",
    "from tensorflow.keras import layers\n",
    "\n",
    "import tensorflow_docs as tfdocs\n",
    "import tensorflow_docs.plots\n",
    "import tensorflow_docs.modeling"
   ]
  },
  {
   "cell_type": "code",
   "execution_count": null,
   "metadata": {},
   "outputs": [],
   "source": [
    "from sklearn.model_selection import train_test_split"
   ]
  },
  {
   "cell_type": "code",
   "execution_count": 19,
   "metadata": {
    "id": "CiX2FI4gZtTt"
   },
   "outputs": [
    {
     "data": {
      "text/html": [
       "<div>\n",
       "<style scoped>\n",
       "    .dataframe tbody tr th:only-of-type {\n",
       "        vertical-align: middle;\n",
       "    }\n",
       "\n",
       "    .dataframe tbody tr th {\n",
       "        vertical-align: top;\n",
       "    }\n",
       "\n",
       "    .dataframe thead th {\n",
       "        text-align: right;\n",
       "    }\n",
       "</style>\n",
       "<table border=\"1\" class=\"dataframe\">\n",
       "  <thead>\n",
       "    <tr style=\"text-align: right;\">\n",
       "      <th></th>\n",
       "      <th>age</th>\n",
       "      <th>sex</th>\n",
       "      <th>bmi</th>\n",
       "      <th>children</th>\n",
       "      <th>smoker</th>\n",
       "      <th>region</th>\n",
       "      <th>expenses</th>\n",
       "    </tr>\n",
       "  </thead>\n",
       "  <tbody>\n",
       "    <tr>\n",
       "      <th>1333</th>\n",
       "      <td>50</td>\n",
       "      <td>male</td>\n",
       "      <td>31.0</td>\n",
       "      <td>3</td>\n",
       "      <td>no</td>\n",
       "      <td>northwest</td>\n",
       "      <td>10600.55</td>\n",
       "    </tr>\n",
       "    <tr>\n",
       "      <th>1334</th>\n",
       "      <td>18</td>\n",
       "      <td>female</td>\n",
       "      <td>31.9</td>\n",
       "      <td>0</td>\n",
       "      <td>no</td>\n",
       "      <td>northeast</td>\n",
       "      <td>2205.98</td>\n",
       "    </tr>\n",
       "    <tr>\n",
       "      <th>1335</th>\n",
       "      <td>18</td>\n",
       "      <td>female</td>\n",
       "      <td>36.9</td>\n",
       "      <td>0</td>\n",
       "      <td>no</td>\n",
       "      <td>southeast</td>\n",
       "      <td>1629.83</td>\n",
       "    </tr>\n",
       "    <tr>\n",
       "      <th>1336</th>\n",
       "      <td>21</td>\n",
       "      <td>female</td>\n",
       "      <td>25.8</td>\n",
       "      <td>0</td>\n",
       "      <td>no</td>\n",
       "      <td>southwest</td>\n",
       "      <td>2007.95</td>\n",
       "    </tr>\n",
       "    <tr>\n",
       "      <th>1337</th>\n",
       "      <td>61</td>\n",
       "      <td>female</td>\n",
       "      <td>29.1</td>\n",
       "      <td>0</td>\n",
       "      <td>yes</td>\n",
       "      <td>northwest</td>\n",
       "      <td>29141.36</td>\n",
       "    </tr>\n",
       "  </tbody>\n",
       "</table>\n",
       "</div>"
      ],
      "text/plain": [
       "      age     sex   bmi  children smoker     region  expenses\n",
       "1333   50    male  31.0         3     no  northwest  10600.55\n",
       "1334   18  female  31.9         0     no  northeast   2205.98\n",
       "1335   18  female  36.9         0     no  southeast   1629.83\n",
       "1336   21  female  25.8         0     no  southwest   2007.95\n",
       "1337   61  female  29.1         0    yes  northwest  29141.36"
      ]
     },
     "execution_count": 19,
     "metadata": {},
     "output_type": "execute_result"
    }
   ],
   "source": [
    "# Import data\n",
    "#!wget https://cdn.freecodecamp.org/project-data/health-costs/insurance.csv\n",
    "dataset = pd.read_csv('insurance.csv')\n",
    "dataset.tail()"
   ]
  },
  {
   "cell_type": "code",
   "execution_count": 20,
   "metadata": {},
   "outputs": [],
   "source": [
    "X = dataset.drop(['expenses'], axis = 1)\n",
    "y = dataset['expenses']\n",
    "train_dataset, test_dataset,train_labels, test_labels = train_test_split(X,y)"
   ]
  },
  {
   "cell_type": "code",
   "execution_count": 21,
   "metadata": {},
   "outputs": [],
   "source": [
    "cat_cols = list(dataset.select_dtypes(include = 'object').columns)\n",
    "num_cols = list(dataset.select_dtypes(exclude = 'object').columns)\n",
    "num_cols.remove('expenses')"
   ]
  },
  {
   "cell_type": "code",
   "execution_count": 91,
   "metadata": {},
   "outputs": [],
   "source": [
    "def make_ds(data, y, batch_size = 5, shuffle = True):\n",
    "    df = {key : val[:, tf.newaxis] for key,val in data.items()}\n",
    "    ds = tf.data.Dataset.from_tensor_slices((dict(df), y))\n",
    "    if shuffle:\n",
    "        ds = ds.shuffle(buffer_size = len(data))\n",
    "    ds = ds.batch(batch_size)\n",
    "    ds = ds.prefetch(batch_size)\n",
    "    return ds\n",
    "train_ds = make_ds(train_dataset, train_labels)\n",
    "test_ds = make_ds(test_dataset, test_labels)"
   ]
  },
  {
   "cell_type": "code",
   "execution_count": 83,
   "metadata": {},
   "outputs": [
    {
     "name": "stdout",
     "output_type": "stream",
     "text": [
      "tf.Tensor([15230.32  6079.67 11674.13  2689.5  13725.47], shape=(5,), dtype=float64)\n"
     ]
    }
   ],
   "source": [
    "[(train_f, l_b)] = ds.take(1)\n",
    "print(l_b)"
   ]
  },
  {
   "cell_type": "code",
   "execution_count": 45,
   "metadata": {},
   "outputs": [],
   "source": [
    "def normalization_layer(name, ds):\n",
    "    normalizer = layers.Normalization(axis = None)\n",
    "    feature_ds = ds.map(lambda x,y : x[name])\n",
    "    normalizer.adapt(feature_ds)\n",
    "    return normalizer"
   ]
  },
  {
   "cell_type": "code",
   "execution_count": 84,
   "metadata": {},
   "outputs": [
    {
     "data": {
      "text/plain": [
       "[<KerasTensor: shape=(None, 1) dtype=float32 (created by layer 'normalization_35')>,\n",
       " <KerasTensor: shape=(None, 1) dtype=float32 (created by layer 'normalization_36')>,\n",
       " <KerasTensor: shape=(None, 1) dtype=float32 (created by layer 'normalization_37')>]"
      ]
     },
     "execution_count": 84,
     "metadata": {},
     "output_type": "execute_result"
    }
   ],
   "source": [
    "train_encoded_in = []\n",
    "all_in = []\n",
    "for col in num_cols:\n",
    "    num_col = tf.keras.Input(shape = (1,), name = col, dtype = 'int64')\n",
    "    encoded = normalization_layer(col, train_ds)\n",
    "    encoded_num_col = encoded(num_col)\n",
    "    all_in.append(num_col)\n",
    "    encoded_in.append(encoded_num_col)\n",
    "encoded_in"
   ]
  },
  {
   "cell_type": "code",
   "execution_count": 49,
   "metadata": {},
   "outputs": [],
   "source": [
    "def cat_encoding_layer(name, dataset, dtype, max_token = None):\n",
    "    ind = layers.StringLookup(max_tokens = max_token)\n",
    "    feature_ds = ds.map(lambda x,y : x[name])\n",
    "    ind.adapt(feature_ds)\n",
    "    encoder = layers.CategoryEncoding(num_tokens = ind.vocabulary_size())\n",
    "    return lambda feature: encoder(ind(feature))"
   ]
  },
  {
   "cell_type": "code",
   "execution_count": 85,
   "metadata": {},
   "outputs": [
    {
     "data": {
      "text/plain": [
       "[<KerasTensor: shape=(None, 1) dtype=float32 (created by layer 'normalization_35')>,\n",
       " <KerasTensor: shape=(None, 1) dtype=float32 (created by layer 'normalization_36')>,\n",
       " <KerasTensor: shape=(None, 1) dtype=float32 (created by layer 'normalization_37')>,\n",
       " <KerasTensor: shape=(None, 3) dtype=float32 (created by layer 'category_encoding_19')>,\n",
       " <KerasTensor: shape=(None, 3) dtype=float32 (created by layer 'category_encoding_20')>,\n",
       " <KerasTensor: shape=(None, 5) dtype=float32 (created by layer 'category_encoding_21')>]"
      ]
     },
     "execution_count": 85,
     "metadata": {},
     "output_type": "execute_result"
    }
   ],
   "source": [
    "for col in cat_cols:\n",
    "    cat_col = tf.keras.Input(shape = (1,), name = col, dtype = 'string')\n",
    "    encode_layer = cat_encoding_layer(col,ds,'string')\n",
    "    encoded = encode_layer(cat_col)\n",
    "    all_in.append(cat_col)\n",
    "    encoded_in.append(encoded)\n",
    "encoded_in"
   ]
  },
  {
   "cell_type": "code",
   "execution_count": 86,
   "metadata": {},
   "outputs": [],
   "source": [
    "all_f = layers.concatenate(encoded_in)\n",
    "x =  tf.keras.layers.Dense(64,activation = 'relu')(all_f)\n",
    "x = tf.keras.layers.Dense(64,activation = 'relu')(x)\n",
    "output = tf.keras.layers.Dense(1)(x)\n",
    "model = keras.Model(all_in, output)\n",
    "model.compile(optimizer ='rmsprop', loss = 'mse', metrics = ['mae','mse'])"
   ]
  },
  {
   "cell_type": "code",
   "execution_count": 88,
   "metadata": {},
   "outputs": [
    {
     "name": "stdout",
     "output_type": "stream",
     "text": [
      "Epoch 1/50\n",
      "201/201 [==============================] - 3s 16ms/step - loss: 93169960.0000 - mae: 7452.5156 - mse: 93169960.0000 0s - loss: 94582816.0000 - mae: 74\n",
      "Epoch 2/50\n",
      "201/201 [==============================] - 3s 16ms/step - loss: 83756176.0000 - mae: 6990.7734 - mse: 83756176.0000 1s - loss: 81708360.0000 - mae: 6906.0557 - ms - ETA: 1s - loss: 81119200.0000 - mae: 6888.5688 - mse: - ETA: 0s - loss: 81347544.00\n",
      "Epoch 3/50\n",
      "201/201 [==============================] - 4s 18ms/step - loss: 74684264.0000 - mae: 6595.2876 - mse: 74684264.0000 0s - loss: 74062\n",
      "Epoch 4/50\n",
      "201/201 [==============================] - 3s 16ms/step - loss: 66110116.0000 - mae: 6050.0391 - mse: 66110116.0000 1s - loss: 59554784.0000 - mae: 5825.910 - ETA: 0s - loss: 64097724.0000 - mae: 5926.6\n",
      "Epoch 5/50\n",
      "201/201 [==============================] - 3s 17ms/step - loss: 58465908.0000 - mae: 5629.1777 - mse: 58465908.0000 3s - loss: 63290920.0000 - mae: 5909.4673 - mse: 63290920.00 - ETA: 3s - loss: 57823484.0000 - mae: 5629.3262 - mse: 5 - ETA: 0s - loss: 55511332.0000 - mae: 5456.7759 \n",
      "Epoch 6/50\n",
      "201/201 [==============================] - 3s 16ms/step - loss: 52076748.0000 - mae: 5356.1982 - mse: 52076748.0000 1s - loss: 56274024.0000 - mae: 5483.7925 - mse: 562 - ETA: 1s - loss: 54519488.0000 - mae: 5425.5488 - mse: 5 - ETA: 0s - loss: 53603088.0000 - m\n",
      "Epoch 7/50\n",
      "201/201 [==============================] - 3s 15ms/step - loss: 46537548.0000 - mae: 5012.3467 - mse: 46537548.0000 1s - loss: 48572680.0000 - mae: 5114.9775 - mse: 48572 - ETA: 1s - loss: 51139 - ETA: 0s - loss: 46937052.0000 - mae: 50\n",
      "Epoch 8/50\n",
      "201/201 [==============================] - 3s 14ms/step - loss: 42434468.0000 - mae: 4703.0171 - mse: 42434468.0000\n",
      "Epoch 9/50\n",
      "201/201 [==============================] - 3s 15ms/step - loss: 39531224.0000 - mae: 4539.6304 - mse: 39531224.0000 2s - ETA: 0s - loss: 39260400.0000 - m\n",
      "Epoch 10/50\n",
      "201/201 [==============================] - 3s 16ms/step - loss: 37743484.0000 - mae: 4420.7017 - mse: 37743484.0000\n",
      "Epoch 11/50\n",
      "201/201 [==============================] - 3s 17ms/step - loss: 36695808.0000 - mae: 4244.2129 - mse: 36695808.0000\n",
      "Epoch 12/50\n",
      "201/201 [==============================] - 3s 14ms/step - loss: 36113480.0000 - mae: 4136.9717 - mse: 36113480.0000 1s - loss: 32886950.0000 - mae: 3946.2090 - mse: 32886950.00 - ETA: 1s - loss: 35328128.0000 - mae: 4062.5635  - ETA: 1s - loss: 37597412.0000 - mae: 4232.7 - ETA: 0s - loss: 36407372.0000 - mae: 4151.3452 - ms\n",
      "Epoch 13/50\n",
      "201/201 [==============================] - ETA: 0s - loss: 36078620.0000 - mae: 4104.9961 - mse: 36078624.00 - 3s 15ms/step - loss: 35759448.0000 - mae: 4081.9028 - mse: 35759452.0000\n",
      "Epoch 14/50\n",
      "201/201 [==============================] - 3s 15ms/step - loss: 35479564.0000 - mae: 4028.4722 - mse: 35479560.0000\n",
      "Epoch 15/50\n",
      "201/201 [==============================] - 3s 16ms/step - loss: 35268364.0000 - mae: 3985.0291 - mse: 35268364.0000 1s - loss: 31985274.00\n",
      "Epoch 16/50\n",
      "201/201 [==============================] - 3s 15ms/step - loss: 35124260.0000 - mae: 3949.5222 - mse: 35124260.0000\n",
      "Epoch 17/50\n",
      "201/201 [==============================] - 3s 15ms/step - loss: 34916276.0000 - mae: 3934.1392 - mse: 34916276.0000 2s - ETA: 0s - loss: 34130368.0000 - mae: 3901.1013 - mse: 341 - ETA: 0s - loss: 33625896.0000 - mae: 3857.9924 \n",
      "Epoch 18/50\n",
      "201/201 [==============================] - 3s 15ms/step - loss: 34745552.0000 - mae: 3926.4199 - mse: 34745552.0000\n",
      "Epoch 19/50\n",
      "201/201 [==============================] - 3s 16ms/step - loss: 34524648.0000 - mae: 3881.4216 - mse: 34524648.0000\n",
      "Epoch 20/50\n",
      "201/201 [==============================] - 3s 14ms/step - loss: 34363080.0000 - mae: 3877.8660 - mse: 34363080.0000\n",
      "Epoch 21/50\n",
      "201/201 [==============================] - 4s 17ms/step - loss: 34151080.0000 - mae: 3870.7424 - mse: 34151080.0000\n",
      "Epoch 22/50\n",
      "201/201 [==============================] - 3s 16ms/step - loss: 33933272.0000 - mae: 3850.3281 - mse: 33933272.0000\n",
      "Epoch 23/50\n",
      "201/201 [==============================] - 3s 16ms/step - loss: 33715836.0000 - mae: 3800.3999 - mse: 33715832.0000 0s - loss: 33133474.0000 - mae: 3788.3306 - mse: 33133470.00 - ETA: 0s - loss: 33219782.0000 - mae: 3778.1917 - mse: 3321977\n",
      "Epoch 24/50\n",
      "201/201 [==============================] - 3s 15ms/step - loss: 33504904.0000 - mae: 3800.6257 - mse: 33504904.0000\n",
      "Epoch 25/50\n",
      "201/201 [==============================] - 3s 14ms/step - loss: 33230474.0000 - mae: 3783.0447 - mse: 33230474.0000\n",
      "Epoch 26/50\n",
      "201/201 [==============================] - 4s 18ms/step - loss: 32984896.0000 - mae: 3761.8953 - mse: 32984896.0000 0s - loss: 32057468.0000 - mae: 3702.3420 - mse: 32057 - ETA: 0s - loss: 33454600.0000 - mae: 3791.1150 - mse:\n",
      "Epoch 27/50\n",
      "201/201 [==============================] - 3s 16ms/step - loss: 32717560.0000 - mae: 3731.4827 - mse: 32717560.0000 1s - loss: 33897888.0000 - mae: 3812.9519 - mse: - ETA: 1s -\n",
      "Epoch 28/50\n",
      "201/201 [==============================] - 3s 17ms/step - loss: 32416998.0000 - mae: 3731.3440 - mse: 32416998.0000\n",
      "Epoch 29/50\n",
      "201/201 [==============================] - 3s 15ms/step - loss: 32116270.0000 - mae: 3709.8767 - mse: 32116270.0000\n",
      "Epoch 30/50\n",
      "201/201 [==============================] - 3s 17ms/step - loss: 31888548.0000 - mae: 3647.9221 - mse: 31888548.0000\n",
      "Epoch 31/50\n",
      "201/201 [==============================] - 3s 16ms/step - loss: 31581112.0000 - mae: 3639.6255 - mse: 31581112.0000 0s - loss: 31552598.0000 - mae: 3667.7766 -  - ETA: 0s - loss: 31486748.0000 - mae: 3622.7402 \n",
      "Epoch 32/50\n",
      "201/201 [==============================] - 4s 18ms/step - loss: 31296332.0000 - mae: 3623.6462 - mse: 31296332.0000\n",
      "Epoch 33/50\n",
      "201/201 [==============================] - 3s 17ms/step - loss: 30994702.0000 - mae: 3588.1099 - mse: 30994702.0000 0s - loss: 32448222.0000 - mae: 3661.9065 - ms - ETA: 0s - loss: 32783114.0000 - mae: 3686.0398 - mse: 3278311 - ETA: 0s - loss: 32263396.0000 - mae: 3665.2976 - \n",
      "Epoch 34/50\n",
      "201/201 [==============================] - 3s 14ms/step - loss: 30704338.0000 - mae: 3550.0972 - mse: 30704338.0000 0s - loss: 28469568.0000 - mae\n",
      "Epoch 35/50\n",
      "201/201 [==============================] - 3s 17ms/step - loss: 30384596.0000 - mae: 3539.2227 - mse: 30384596.0000 1s - loss: 34880884.0000 - mae: 3844.7668 - mse: 3488088 - ETA\n",
      "Epoch 36/50\n",
      "201/201 [==============================] - 3s 16ms/step - loss: 30088782.0000 - mae: 3505.3003 - mse: 30088782.0000 0s - loss: 30563044.0000 - mae: 34\n",
      "Epoch 37/50\n",
      "201/201 [==============================] - 3s 16ms/step - loss: 29816684.0000 - mae: 3469.4607 - mse: 29816684.0000: 3s - loss: 25641750.0000 - mae: 3442.1138 - mse: 25641750.00 - ETA: 3s - loss: 28089350. - ETA: 1s - loss: 33564452.0000 - mae: 3705.8335 - mse: 33564 - ETA: 1s - loss: 34238916.0000 - mae: 3722.5381 - mse: - ETA: 1s - loss: 29704490.\n",
      "Epoch 38/50\n",
      "201/201 [==============================] - 3s 16ms/step - loss: 29509124.0000 - mae: 3489.2644 - mse: 29509124.0000 1s - loss: 28329258.00\n",
      "Epoch 39/50\n",
      "201/201 [==============================] - 3s 15ms/step - loss: 29267054.0000 - mae: 3404.8167 - mse: 29267054.0000\n",
      "Epoch 40/50\n",
      "201/201 [==============================] - 3s 16ms/step - loss: 28926746.0000 - mae: 3396.4902 - mse: 28926748.0000\n",
      "Epoch 41/50\n",
      "201/201 [==============================] - 3s 14ms/step - loss: 28696604.0000 - mae: 3381.8503 - mse: 28696604.0000\n",
      "Epoch 42/50\n",
      "201/201 [==============================] - 3s 14ms/step - loss: 28451386.0000 - mae: 3329.8052 - mse: 28451386.0000\n",
      "Epoch 43/50\n",
      "201/201 [==============================] - 3s 14ms/step - loss: 28164900.0000 - mae: 3296.4873 - mse: 28164900.0000\n",
      "Epoch 44/50\n",
      "201/201 [==============================] - ETA: 0s - loss: 27869738.0000 - mae: 3305.4985 - mse: 27869738.0000TA - ETA: 0s - loss: 29204580.0000 - mae: 3366.5557 -  - ETA: 0s - loss: 29028842.0000 - mae: 3344.1084 - mse: - 3s 14ms/step - loss: 27869738.0000 - mae: 3305.4985 - mse: 27869738.0000\n",
      "Epoch 45/50\n",
      "201/201 [==============================] - 3s 15ms/step - loss: 27640544.0000 - mae: 3272.5049 - mse: 27640544.0000- ETA: 0s - loss: 29645852.0000 - mae\n",
      "Epoch 46/50\n"
     ]
    },
    {
     "name": "stdout",
     "output_type": "stream",
     "text": [
      "201/201 [==============================] - 3s 16ms/step - loss: 27417138.0000 - mae: 3192.9534 - mse: 27417138.0000 1s - loss: 26621754.00\n",
      "Epoch 47/50\n",
      "201/201 [==============================] - 3s 15ms/step - loss: 27153880.0000 - mae: 3219.3289 - mse: 27153880.0000\n",
      "Epoch 48/50\n",
      "201/201 [==============================] - 3s 14ms/step - loss: 26894146.0000 - mae: 3183.9006 - mse: 26894146.0000\n",
      "Epoch 49/50\n",
      "201/201 [==============================] - 2s 12ms/step - loss: 26711022.0000 - mae: 3172.3564 - mse: 26711022.0000\n",
      "Epoch 50/50\n",
      "201/201 [==============================] - 3s 13ms/step - loss: 26484844.0000 - mae: 3144.7061 - mse: 26484844.0000\n"
     ]
    },
    {
     "data": {
      "text/plain": [
       "<keras.callbacks.History at 0x25576bca6d0>"
      ]
     },
     "execution_count": 88,
     "metadata": {},
     "output_type": "execute_result"
    }
   ],
   "source": [
    "model.fit(ds, epochs = 50)"
   ]
  },
  {
   "cell_type": "code",
   "execution_count": 96,
   "metadata": {
    "id": "Xe7RXH3N3CWU"
   },
   "outputs": [
    {
     "name": "stdout",
     "output_type": "stream",
     "text": [
      "67/67 - 1s - loss: 27525548.0000 - mae: 3285.9575 - mse: 27525548.0000 - 548ms/epoch - 8ms/step\n",
      "Testing set Mean Abs Error: 3285.96 expenses\n",
      "You passed the challenge. Great job!\n"
     ]
    },
    {
     "data": {
      "image/png": "[encoded data removed]",
      "text/plain": [
       "<Figure size 432x288 with 1 Axes>"
      ]
     },
     "metadata": {
      "needs_background": "light"
     },
     "output_type": "display_data"
    }
   ],
   "source": [
    "# RUN THIS CELL TO TEST YOUR MODEL. DO NOT MODIFY CONTENTS.\n",
    "# Test model by checking how well the model generalizes using the test set.\n",
    "loss, mae, mse = model.evaluate(test_ds ,verbose=2)\n",
    "\n",
    "print(\"Testing set Mean Abs Error: {:5.2f} expenses\".format(mae))\n",
    "\n",
    "if mae < 3500:\n",
    "  print(\"You passed the challenge. Great job!\")\n",
    "else:\n",
    "  print(\"The Mean Abs Error must be less than 3500. Keep trying.\")\n",
    "\n",
    "# Plot predictions.\n",
    "test_predictions = model.predict(test_ds).flatten()\n",
    "\n",
    "a = plt.axes(aspect='equal')\n",
    "plt.scatter(test_labels, test_predictions)\n",
    "plt.xlabel('True values (expenses)')\n",
    "plt.ylabel('Predictions (expenses)')\n",
    "lims = [0, 50000]\n",
    "plt.xlim(lims)\n",
    "plt.ylim(lims)\n",
    "_ = plt.plot(lims,lims)"
   ]
  },
  {
   "cell_type": "code",
   "execution_count": 7,
   "metadata": {},
   "outputs": [
    {
     "data": {
      "text/html": [
       "<div>\n",
       "<style scoped>\n",
       "    .dataframe tbody tr th:only-of-type {\n",
       "        vertical-align: middle;\n",
       "    }\n",
       "\n",
       "    .dataframe tbody tr th {\n",
       "        vertical-align: top;\n",
       "    }\n",
       "\n",
       "    .dataframe thead th {\n",
       "        text-align: right;\n",
       "    }\n",
       "</style>\n",
       "<table border=\"1\" class=\"dataframe\">\n",
       "  <thead>\n",
       "    <tr style=\"text-align: right;\">\n",
       "      <th></th>\n",
       "      <th>age</th>\n",
       "      <th>bmi</th>\n",
       "      <th>children</th>\n",
       "      <th>sex_female</th>\n",
       "      <th>sex_male</th>\n",
       "      <th>smoker_no</th>\n",
       "      <th>smoker_yes</th>\n",
       "      <th>region_northeast</th>\n",
       "      <th>region_northwest</th>\n",
       "      <th>region_southeast</th>\n",
       "      <th>region_southwest</th>\n",
       "    </tr>\n",
       "  </thead>\n",
       "  <tbody>\n",
       "    <tr>\n",
       "      <th>0</th>\n",
       "      <td>-1.438227</td>\n",
       "      <td>-0.453476</td>\n",
       "      <td>-0.908274</td>\n",
       "      <td>1.010141</td>\n",
       "      <td>-1.010141</td>\n",
       "      <td>-1.969850</td>\n",
       "      <td>1.969850</td>\n",
       "      <td>-0.565056</td>\n",
       "      <td>-0.566206</td>\n",
       "      <td>-0.611095</td>\n",
       "      <td>1.764821</td>\n",
       "    </tr>\n",
       "    <tr>\n",
       "      <th>1</th>\n",
       "      <td>-1.509401</td>\n",
       "      <td>0.513994</td>\n",
       "      <td>-0.078738</td>\n",
       "      <td>-0.989221</td>\n",
       "      <td>0.989221</td>\n",
       "      <td>0.507273</td>\n",
       "      <td>-0.507273</td>\n",
       "      <td>-0.565056</td>\n",
       "      <td>-0.566206</td>\n",
       "      <td>1.635183</td>\n",
       "      <td>-0.566206</td>\n",
       "    </tr>\n",
       "    <tr>\n",
       "      <th>2</th>\n",
       "      <td>-0.797655</td>\n",
       "      <td>0.382811</td>\n",
       "      <td>1.580335</td>\n",
       "      <td>-0.989221</td>\n",
       "      <td>0.989221</td>\n",
       "      <td>0.507273</td>\n",
       "      <td>-0.507273</td>\n",
       "      <td>-0.565056</td>\n",
       "      <td>-0.566206</td>\n",
       "      <td>1.635183</td>\n",
       "      <td>-0.566206</td>\n",
       "    </tr>\n",
       "    <tr>\n",
       "      <th>3</th>\n",
       "      <td>-0.441782</td>\n",
       "      <td>-1.306161</td>\n",
       "      <td>-0.908274</td>\n",
       "      <td>-0.989221</td>\n",
       "      <td>0.989221</td>\n",
       "      <td>0.507273</td>\n",
       "      <td>-0.507273</td>\n",
       "      <td>-0.565056</td>\n",
       "      <td>1.764821</td>\n",
       "      <td>-0.611095</td>\n",
       "      <td>-0.566206</td>\n",
       "    </tr>\n",
       "    <tr>\n",
       "      <th>4</th>\n",
       "      <td>-0.512957</td>\n",
       "      <td>-0.289498</td>\n",
       "      <td>-0.908274</td>\n",
       "      <td>-0.989221</td>\n",
       "      <td>0.989221</td>\n",
       "      <td>0.507273</td>\n",
       "      <td>-0.507273</td>\n",
       "      <td>-0.565056</td>\n",
       "      <td>1.764821</td>\n",
       "      <td>-0.611095</td>\n",
       "      <td>-0.566206</td>\n",
       "    </tr>\n",
       "    <tr>\n",
       "      <th>...</th>\n",
       "      <td>...</td>\n",
       "      <td>...</td>\n",
       "      <td>...</td>\n",
       "      <td>...</td>\n",
       "      <td>...</td>\n",
       "      <td>...</td>\n",
       "      <td>...</td>\n",
       "      <td>...</td>\n",
       "      <td>...</td>\n",
       "      <td>...</td>\n",
       "      <td>...</td>\n",
       "    </tr>\n",
       "    <tr>\n",
       "      <th>1333</th>\n",
       "      <td>0.768185</td>\n",
       "      <td>0.054855</td>\n",
       "      <td>1.580335</td>\n",
       "      <td>-0.989221</td>\n",
       "      <td>0.989221</td>\n",
       "      <td>0.507273</td>\n",
       "      <td>-0.507273</td>\n",
       "      <td>-0.565056</td>\n",
       "      <td>1.764821</td>\n",
       "      <td>-0.611095</td>\n",
       "      <td>-0.566206</td>\n",
       "    </tr>\n",
       "    <tr>\n",
       "      <th>1334</th>\n",
       "      <td>-1.509401</td>\n",
       "      <td>0.202436</td>\n",
       "      <td>-0.908274</td>\n",
       "      <td>1.010141</td>\n",
       "      <td>-1.010141</td>\n",
       "      <td>0.507273</td>\n",
       "      <td>-0.507273</td>\n",
       "      <td>1.768415</td>\n",
       "      <td>-0.566206</td>\n",
       "      <td>-0.611095</td>\n",
       "      <td>-0.566206</td>\n",
       "    </tr>\n",
       "    <tr>\n",
       "      <th>1335</th>\n",
       "      <td>-1.509401</td>\n",
       "      <td>1.022325</td>\n",
       "      <td>-0.908274</td>\n",
       "      <td>1.010141</td>\n",
       "      <td>-1.010141</td>\n",
       "      <td>0.507273</td>\n",
       "      <td>-0.507273</td>\n",
       "      <td>-0.565056</td>\n",
       "      <td>-0.566206</td>\n",
       "      <td>1.635183</td>\n",
       "      <td>-0.566206</td>\n",
       "    </tr>\n",
       "    <tr>\n",
       "      <th>1336</th>\n",
       "      <td>-1.295877</td>\n",
       "      <td>-0.797830</td>\n",
       "      <td>-0.908274</td>\n",
       "      <td>1.010141</td>\n",
       "      <td>-1.010141</td>\n",
       "      <td>0.507273</td>\n",
       "      <td>-0.507273</td>\n",
       "      <td>-0.565056</td>\n",
       "      <td>-0.566206</td>\n",
       "      <td>-0.611095</td>\n",
       "      <td>1.764821</td>\n",
       "    </tr>\n",
       "    <tr>\n",
       "      <th>1337</th>\n",
       "      <td>1.551106</td>\n",
       "      <td>-0.256703</td>\n",
       "      <td>-0.908274</td>\n",
       "      <td>1.010141</td>\n",
       "      <td>-1.010141</td>\n",
       "      <td>-1.969850</td>\n",
       "      <td>1.969850</td>\n",
       "      <td>-0.565056</td>\n",
       "      <td>1.764821</td>\n",
       "      <td>-0.611095</td>\n",
       "      <td>-0.566206</td>\n",
       "    </tr>\n",
       "  </tbody>\n",
       "</table>\n",
       "<p>1338 rows × 11 columns</p>\n",
       "</div>"
      ],
      "text/plain": [
       "           age       bmi  children  sex_female  sex_male  smoker_no  \\\n",
       "0    -1.438227 -0.453476 -0.908274    1.010141 -1.010141  -1.969850   \n",
       "1    -1.509401  0.513994 -0.078738   -0.989221  0.989221   0.507273   \n",
       "2    -0.797655  0.382811  1.580335   -0.989221  0.989221   0.507273   \n",
       "3    -0.441782 -1.306161 -0.908274   -0.989221  0.989221   0.507273   \n",
       "4    -0.512957 -0.289498 -0.908274   -0.989221  0.989221   0.507273   \n",
       "...        ...       ...       ...         ...       ...        ...   \n",
       "1333  0.768185  0.054855  1.580335   -0.989221  0.989221   0.507273   \n",
       "1334 -1.509401  0.202436 -0.908274    1.010141 -1.010141   0.507273   \n",
       "1335 -1.509401  1.022325 -0.908274    1.010141 -1.010141   0.507273   \n",
       "1336 -1.295877 -0.797830 -0.908274    1.010141 -1.010141   0.507273   \n",
       "1337  1.551106 -0.256703 -0.908274    1.010141 -1.010141  -1.969850   \n",
       "\n",
       "      smoker_yes  region_northeast  region_northwest  region_southeast  \\\n",
       "0       1.969850         -0.565056         -0.566206         -0.611095   \n",
       "1      -0.507273         -0.565056         -0.566206          1.635183   \n",
       "2      -0.507273         -0.565056         -0.566206          1.635183   \n",
       "3      -0.507273         -0.565056          1.764821         -0.611095   \n",
       "4      -0.507273         -0.565056          1.764821         -0.611095   \n",
       "...          ...               ...               ...               ...   \n",
       "1333   -0.507273         -0.565056          1.764821         -0.611095   \n",
       "1334   -0.507273          1.768415         -0.566206         -0.611095   \n",
       "1335   -0.507273         -0.565056         -0.566206          1.635183   \n",
       "1336   -0.507273         -0.565056         -0.566206         -0.611095   \n",
       "1337    1.969850         -0.565056          1.764821         -0.611095   \n",
       "\n",
       "      region_southwest  \n",
       "0             1.764821  \n",
       "1            -0.566206  \n",
       "2            -0.566206  \n",
       "3            -0.566206  \n",
       "4            -0.566206  \n",
       "...                ...  \n",
       "1333         -0.566206  \n",
       "1334         -0.566206  \n",
       "1335         -0.566206  \n",
       "1336          1.764821  \n",
       "1337         -0.566206  \n",
       "\n",
       "[1338 rows x 11 columns]"
      ]
     },
     "execution_count": 7,
     "metadata": {},
     "output_type": "execute_result"
    }
   ],
   "source": [
    "X =pd.get_dummies(X)\n",
    "mean = X.mean()\n",
    "X -= mean\n",
    "std = X.std()\n",
    "X /= std\n",
    "X"
   ]
  },
  {
   "cell_type": "code",
   "execution_count": 24,
   "metadata": {},
   "outputs": [],
   "source": [
    "model = tf.keras.models.Sequential([\n",
    "    tf.keras.layers.Dense(64,activation = 'relu',input_shape = (X.shape[1],)),\n",
    "    tf.keras.layers.Dense(64, activation = 'relu'),\n",
    "    tf.keras.layers.Dense(32, activation = 'relu'),\n",
    "    tf.keras.layers.Dense(1),\n",
    "])\n",
    "model.compile(optimizer ='rmsprop', loss = 'mse', metrics = ['mae','mse'])"
   ]
  },
  {
   "cell_type": "code",
   "execution_count": 25,
   "metadata": {},
   "outputs": [
    {
     "name": "stdout",
     "output_type": "stream",
     "text": [
      "Epoch 1/45\n",
      "32/32 [==============================] - 5s 10ms/step - loss: 333444448.0000 - mae: 13532.7773 - mse: 333444448.0000\n",
      "Epoch 2/45\n",
      "32/32 [==============================] - 0s 10ms/step - loss: 332764096.0000 - mae: 13510.4775 - mse: 332764096.0000\n",
      "Epoch 3/45\n",
      "32/32 [==============================] - 0s 12ms/step - loss: 331039264.0000 - mae: 13457.0801 - mse: 331039264.0000\n",
      "Epoch 4/45\n",
      "32/32 [==============================] - 0s 14ms/step - loss: 327575040.0000 - mae: 13357.9561 - mse: 327575040.0000: 0s - loss: 267917136.0000 - mae: 12440.2031 - mse: 2679171\n",
      "Epoch 5/45\n",
      "32/32 [==============================] - 1s 15ms/step - loss: 322086176.0000 - mae: 13198.7344 - mse: 322086176.0000: 0s - loss: 323568416.0000 - mae: 13063.5332 - mse: 323568416\n",
      "Epoch 6/45\n",
      "32/32 [==============================] - 0s 13ms/step - loss: 313573536.0000 - mae: 12959.2500 - mse: 313573536.0000\n",
      "Epoch 7/45\n",
      "32/32 [==============================] - 0s 14ms/step - loss: 301253952.0000 - mae: 12621.9834 - mse: 301253952.0000\n",
      "Epoch 8/45\n",
      "32/32 [==============================] - 0s 14ms/step - loss: 284649440.0000 - mae: 12161.8916 - mse: 284649440.0000\n",
      "Epoch 9/45\n",
      "32/32 [==============================] - 0s 13ms/step - loss: 263438160.0000 - mae: 11559.5400 - mse: 263438160.0000\n",
      "Epoch 10/45\n",
      "32/32 [==============================] - 0s 11ms/step - loss: 237075056.0000 - mae: 10797.5049 - mse: 237075056.0000\n",
      "Epoch 11/45\n",
      "32/32 [==============================] - 0s 11ms/step - loss: 206790608.0000 - mae: 9899.9619 - mse: 206790608.0000\n",
      "Epoch 12/45\n",
      "32/32 [==============================] - ETA: 0s - loss: 173061424.0000 - mae: 8825.6367 - mse: 173061424.00 - 0s 13ms/step - loss: 173052240.0000 - mae: 8833.9229 - mse: 173052240.0000\n",
      "Epoch 13/45\n",
      "32/32 [==============================] - 0s 12ms/step - loss: 137149728.0000 - mae: 7656.1343 - mse: 137149728.0000\n",
      "Epoch 14/45\n",
      "32/32 [==============================] - 0s 13ms/step - loss: 101778528.0000 - mae: 6396.2749 - mse: 101778528.0000\n",
      "Epoch 15/45\n",
      "32/32 [==============================] - 0s 13ms/step - loss: 71191152.0000 - mae: 5226.9746 - mse: 71191152.0000\n",
      "Epoch 16/45\n",
      "32/32 [==============================] - 0s 12ms/step - loss: 50245552.0000 - mae: 4532.1172 - mse: 50245552.0000\n",
      "Epoch 17/45\n",
      "32/32 [==============================] - 0s 13ms/step - loss: 39919004.0000 - mae: 4318.4189 - mse: 39919004.0000 0s - loss: 39919004.0000 - mae: 4318.4189 - mse: 39919004.00\n",
      "Epoch 18/45\n",
      "32/32 [==============================] - 0s 13ms/step - loss: 36553400.0000 - mae: 4251.3608 - mse: 36553400.0000 0s - loss: 37147364.0000 - mae: 4220.4282 - mse:\n",
      "Epoch 19/45\n",
      "32/32 [==============================] - 0s 13ms/step - loss: 35441704.0000 - mae: 4169.9106 - mse: 35441704.0000\n",
      "Epoch 20/45\n",
      "32/32 [==============================] - 0s 13ms/step - loss: 34725832.0000 - mae: 4091.4915 - mse: 34725832.0000\n",
      "Epoch 21/45\n",
      "32/32 [==============================] - 0s 12ms/step - loss: 34179348.0000 - mae: 4050.5105 - mse: 34179348.0000\n",
      "Epoch 22/45\n",
      "32/32 [==============================] - 0s 14ms/step - loss: 33895504.0000 - mae: 4009.2600 - mse: 33895504.0000\n",
      "Epoch 23/45\n",
      "32/32 [==============================] - 0s 14ms/step - loss: 33615836.0000 - mae: 3978.3525 - mse: 33615836.0000\n",
      "Epoch 24/45\n",
      "32/32 [==============================] - ETA: 0s - loss: 33232568.0000 - mae: 3927.6707 - mse: 33232568.00 - 0s 13ms/step - loss: 33232568.0000 - mae: 3927.6707 - mse: 33232568.0000\n",
      "Epoch 25/45\n",
      "32/32 [==============================] - 0s 15ms/step - loss: 33070252.0000 - mae: 3910.9282 - mse: 33070252.0000\n",
      "Epoch 26/45\n",
      "32/32 [==============================] - 0s 13ms/step - loss: 32808158.0000 - mae: 3877.4429 - mse: 32808158.0000\n",
      "Epoch 27/45\n",
      "32/32 [==============================] - 1s 16ms/step - loss: 32634654.0000 - mae: 3859.7126 - mse: 32634654.0000\n",
      "Epoch 28/45\n",
      "32/32 [==============================] - 1s 16ms/step - loss: 32439592.0000 - mae: 3837.2048 - mse: 32439592.0000\n",
      "Epoch 29/45\n",
      "32/32 [==============================] - 0s 15ms/step - loss: 32220472.0000 - mae: 3805.5420 - mse: 32220472.0000 0s - loss: 32035490.0000 - mae: 3791.6392 - mse: 32035490.00\n",
      "Epoch 30/45\n",
      "32/32 [==============================] - 0s 13ms/step - loss: 32083640.0000 - mae: 3780.4639 - mse: 32083640.0000\n",
      "Epoch 31/45\n",
      "32/32 [==============================] - 0s 12ms/step - loss: 31855208.0000 - mae: 3786.2427 - mse: 31855208.0000\n",
      "Epoch 32/45\n",
      "32/32 [==============================] - 0s 13ms/step - loss: 31707684.0000 - mae: 3757.3152 - mse: 31707684.0000\n",
      "Epoch 33/45\n",
      "32/32 [==============================] - 0s 14ms/step - loss: 31493942.0000 - mae: 3741.9380 - mse: 31493942.0000\n",
      "Epoch 34/45\n",
      "32/32 [==============================] - 0s 12ms/step - loss: 31393870.0000 - mae: 3719.7805 - mse: 31393870.0000\n",
      "Epoch 35/45\n",
      "32/32 [==============================] - 0s 12ms/step - loss: 31181304.0000 - mae: 3709.0530 - mse: 31181304.0000\n",
      "Epoch 36/45\n",
      "32/32 [==============================] - 0s 15ms/step - loss: 31010124.0000 - mae: 3682.9951 - mse: 31010124.0000\n",
      "Epoch 37/45\n",
      "32/32 [==============================] - 0s 14ms/step - loss: 30819550.0000 - mae: 3671.7627 - mse: 30819550.0000\n",
      "Epoch 38/45\n",
      "32/32 [==============================] - 0s 12ms/step - loss: 30664532.0000 - mae: 3645.5818 - mse: 30664532.0000\n",
      "Epoch 39/45\n",
      "32/32 [==============================] - 0s 13ms/step - loss: 30449742.0000 - mae: 3636.2361 - mse: 30449742.0000 0s - loss: 29627044.0000 - mae: 3635.5442 - mse: 29627044.\n",
      "Epoch 40/45\n",
      "32/32 [==============================] - 1s 16ms/step - loss: 30320410.0000 - mae: 3634.3948 - mse: 30320410.0000\n",
      "Epoch 41/45\n",
      "32/32 [==============================] - 0s 12ms/step - loss: 30147358.0000 - mae: 3599.0312 - mse: 30147358.0000 0s - loss: 30760684.0000 - mae: 3612.7156 - mse: 3076068\n",
      "Epoch 42/45\n",
      "32/32 [==============================] - 0s 12ms/step - loss: 30036174.0000 - mae: 3584.7786 - mse: 30036174.0000\n",
      "Epoch 43/45\n",
      "32/32 [==============================] - 0s 13ms/step - loss: 29861876.0000 - mae: 3580.9951 - mse: 29861876.0000\n",
      "Epoch 44/45\n",
      "32/32 [==============================] - 0s 13ms/step - loss: 29682696.0000 - mae: 3580.2180 - mse: 29682696.0000\n",
      "Epoch 45/45\n",
      "32/32 [==============================] - 0s 13ms/step - loss: 29521000.0000 - mae: 3578.9517 - mse: 29521000.0000\n"
     ]
    },
    {
     "data": {
      "text/plain": [
       "<tensorflow.python.keras.callbacks.History at 0x19e052f4b80>"
      ]
     },
     "execution_count": 25,
     "metadata": {},
     "output_type": "execute_result"
    }
   ],
   "source": [
    "train_dataset, test_dataset,train_labels, test_labels = train_test_split(X,y)\n",
    "model.fit(train_dataset, train_labels, epochs = 45)"
   ]
  },
  {
   "cell_type": "code",
   "execution_count": 27,
   "metadata": {
    "id": "Xe7RXH3N3CWU"
   },
   "outputs": [
    {
     "name": "stdout",
     "output_type": "stream",
     "text": [
      "11/11 - 0s - loss: 24379714.0000 - mae: 3257.9182 - mse: 24379714.0000\n",
      "Testing set Mean Abs Error: 3257.92 expenses\n",
      "You passed the challenge. Great job!\n"
     ]
    },
    {
     "data": {
      "image/png": "[encoded data removed]",
      "text/plain": [
       "<Figure size 432x288 with 1 Axes>"
      ]
     },
     "metadata": {
      "needs_background": "light"
     },
     "output_type": "display_data"
    }
   ],
   "source": [
    "# RUN THIS CELL TO TEST YOUR MODEL. DO NOT MODIFY CONTENTS.\n",
    "# Test model by checking how well the model generalizes using the test set.\n",
    "loss, mae, mse = model.evaluate(test_dataset, test_labels, verbose=2)\n",
    "\n",
    "print(\"Testing set Mean Abs Error: {:5.2f} expenses\".format(mae))\n",
    "\n",
    "if mae < 3500:\n",
    "  print(\"You passed the challenge. Great job!\")\n",
    "else:\n",
    "  print(\"The Mean Abs Error must be less than 3500. Keep trying.\")\n",
    "\n",
    "# Plot predictions.\n",
    "test_predictions = model.predict(test_dataset).flatten()\n",
    "\n",
    "a = plt.axes(aspect='equal')\n",
    "plt.scatter(test_labels, test_predictions)\n",
    "plt.xlabel('True values (expenses)')\n",
    "plt.ylabel('Predictions (expenses)')\n",
    "lims = [0, 50000]\n",
    "plt.xlim(lims)\n",
    "plt.ylim(lims)\n",
    "_ = plt.plot(lims,lims)\n"
   ]
  }
 ],
 "metadata": {
  "colab": {
   "collapsed_sections": [],
   "name": "fcc_predict_health_costs_with_regression.ipynb",
   "private_outputs": true,
   "provenance": [],
   "toc_visible": true
  },
  "kernelspec": {
   "display_name": "Python 3",
   "language": "python",
   "name": "python3"
  },
  "language_info": {
   "codemirror_mode": {
    "name": "ipython",
    "version": 3
   },
   "file_extension": ".py",
   "mimetype": "text/x-python",
   "name": "python",
   "nbconvert_exporter": "python",
   "pygments_lexer": "ipython3",
   "version": "3.8.3"
  }
 },
 "nbformat": 4,
 "nbformat_minor": 1
}
